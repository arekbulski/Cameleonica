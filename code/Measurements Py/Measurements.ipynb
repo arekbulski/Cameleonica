{
 "metadata": {
  "name": "",
  "signature": "sha256:e08c3c8e51135fc270d1b7663d6e28b4c3e7d1d633f6d12ffa8e128be6601187"
 },
 "nbformat": 3,
 "nbformat_minor": 0,
 "worksheets": [
  {
   "cells": [
    {
     "cell_type": "heading",
     "level": 2,
     "metadata": {},
     "source": [
      "<center>Prepare methods and libs</center>"
     ]
    },
    {
     "cell_type": "code",
     "collapsed": false,
     "input": [
      "import sys, os, time, random"
     ],
     "language": "python",
     "metadata": {},
     "outputs": [],
     "prompt_number": 6
    },
    {
     "cell_type": "code",
     "collapsed": false,
     "input": [
      "def BytesString(n):\n",
      "    suffixes = ['B','KB','MB','GB','TB','PB','EB','ZB','YB']\n",
      "    suffix = 0\n",
      "    while n % 1024 == 0 and suffix+1 < len(suffixes):\n",
      "        suffix += 1\n",
      "        n /= 1024\n",
      "    return '{0}{1}'.format(n, suffixes[suffix])\n",
      "\n",
      "def BytesInt(s):\n",
      "    if all(c in '0123456789' for c in s):\n",
      "        return int(s)\n",
      "    suffixes = ['B','KB','MB','GB','TB','PB','EB','ZB','YB']\n",
      "    for power,suffix in reversed(list(enumerate(suffixes))):\n",
      "        if s.endswith(suffix):\n",
      "            return int(s.rstrip(suffix))*1024**power\n",
      "    raise ValueError('BytesInt requires proper suffix ('+' '.join(suffixes)+').')"
     ],
     "language": "python",
     "metadata": {},
     "outputs": [],
     "prompt_number": 7
    },
    {
     "cell_type": "code",
     "collapsed": false,
     "input": [
      "assert BytesString(1) == '1B'\n",
      "assert BytesString(1024) == '1KB'\n",
      "assert BytesString(1025) == '1025B'\n",
      "assert BytesInt('1024') == 1024\n",
      "assert BytesInt('1024B') == 1024\n",
      "assert BytesInt('1KB') == 1024"
     ],
     "language": "python",
     "metadata": {},
     "outputs": [],
     "prompt_number": 8
    },
    {
     "cell_type": "heading",
     "level": 2,
     "metadata": {},
     "source": [
      "<center>Test 1: Random reads across areas</center>"
     ]
    },
    {
     "cell_type": "code",
     "collapsed": false,
     "input": [
      "disk = open('/dev/sdb', 'r')\n",
      "print 'Disk opened.'"
     ],
     "language": "python",
     "metadata": {},
     "outputs": [
      {
       "output_type": "stream",
       "stream": "stdout",
       "text": [
        "Disk opened.\n"
       ]
      }
     ],
     "prompt_number": 9
    },
    {
     "cell_type": "code",
     "collapsed": false,
     "input": [
      "disksize = BytesInt('1TB')\n",
      "samplesize = 250\n",
      "displaytimes = False\n",
      "displaysamplesize = 24\n",
      "\n",
      "print 'Entire disk size: {0}  Sample size: {1}  (displayed {2})'.format(BytesString(disksize), samplesize, format(displaysamplesize) if displaytimes else 'none')\n",
      "\n",
      "for area in map(BytesInt, '1MB 4MB 16MB 128MB 1GB 4GB 16GB 128GB 1TB'.split()):\n",
      "    os.system('echo noop | sudo tee /sys/block/sdb/queue/scheduler > /dev/null')\n",
      "    os.system('echo 3 | sudo tee /proc/sys/vm/drop_caches > /dev/null')\n",
      "\n",
      "    times = []\n",
      "    for _ in range(samplesize):\n",
      "        left = random.randint(0, disksize-area)\n",
      "        right = left + random.randint(0, area)\n",
      "        disk.seek(left)\n",
      "        disk.read(512)\n",
      "        start = time.time()\n",
      "        disk.seek(right)\n",
      "        disk.read(512)\n",
      "        end = time.time()\n",
      "        times.append(end-start)\n",
      "\n",
      "    times = sorted(times)[:samplesize*95/100]\n",
      "    print 'Area tested: {0:5}   Average: {1:3.2f} ms   Max: {2:3.2f} ms   Sum: {3:0.2f} sec'.format(\n",
      "        BytesString(area), sum(times)/len(times)*1000, max(times)*1000, sum(times))\n",
      "    if displaytimes:\n",
      "        print 'Read times: {0} ... {1} ms'.format(\n",
      "            ' '.join(['{0:0.2f}'.format(x*1000) for x in times[:displaysamplesize/2]]), \n",
      "            ' '.join(['{0:0.2f}'.format(x*1000) for x in times[-displaysamplesize/2:]]))\n"
     ],
     "language": "python",
     "metadata": {},
     "outputs": [
      {
       "output_type": "stream",
       "stream": "stdout",
       "text": [
        "Entire disk size: 1TB  Sample size: 250  (displayed none)\n",
        "Area tested: 1MB     Average: 5.20 ms   Max: 15.34 ms   Sum: 1.23 sec"
       ]
      },
      {
       "output_type": "stream",
       "stream": "stdout",
       "text": [
        "\n",
        "Area tested: 4MB     Average: 6.51 ms   Max: 13.72 ms   Sum: 1.54 sec"
       ]
      },
      {
       "output_type": "stream",
       "stream": "stdout",
       "text": [
        "\n",
        "Area tested: 16MB    Average: 7.12 ms   Max: 12.81 ms   Sum: 1.69 sec"
       ]
      },
      {
       "output_type": "stream",
       "stream": "stdout",
       "text": [
        "\n",
        "Area tested: 128MB   Average: 7.85 ms   Max: 13.74 ms   Sum: 1.86 sec"
       ]
      },
      {
       "output_type": "stream",
       "stream": "stdout",
       "text": [
        "\n",
        "Area tested: 1GB     Average: 8.60 ms   Max: 14.39 ms   Sum: 2.04 sec"
       ]
      },
      {
       "output_type": "stream",
       "stream": "stdout",
       "text": [
        "\n",
        "Area tested: 4GB     Average: 10.55 ms   Max: 21.83 ms   Sum: 2.50 sec"
       ]
      },
      {
       "output_type": "stream",
       "stream": "stdout",
       "text": [
        "\n",
        "Area tested: 16GB    Average: 11.80 ms   Max: 25.49 ms   Sum: 2.80 sec"
       ]
      },
      {
       "output_type": "stream",
       "stream": "stdout",
       "text": [
        "\n",
        "Area tested: 128GB   Average: 12.83 ms   Max: 27.71 ms   Sum: 3.04 sec"
       ]
      },
      {
       "output_type": "stream",
       "stream": "stdout",
       "text": [
        "\n",
        "Area tested: 1TB     Average: 15.40 ms   Max: 26.05 ms   Sum: 3.65 sec"
       ]
      },
      {
       "output_type": "stream",
       "stream": "stdout",
       "text": [
        "\n"
       ]
      }
     ],
     "prompt_number": 10
    },
    {
     "cell_type": "code",
     "collapsed": false,
     "input": [
      "samplesize = 250\n",
      "displaytimes = False\n",
      "displaysamplesize = 24\n",
      "\n",
      "print 'Using beginning of disk.  Sample size: {0}  (displayed {1})'.format(\n",
      "    samplesize, format(displaysamplesize) if displaytimes else 'none')\n",
      "\n",
      "for area in map(BytesInt, '1MB 4MB 16MB 128MB 1GB 4GB 16GB 128GB 1TB'.split()):\n",
      "    os.system('echo noop | sudo tee /sys/block/sdb/queue/scheduler > /dev/null')\n",
      "    os.system('echo 3 | sudo tee /proc/sys/vm/drop_caches > /dev/null')\n",
      "\n",
      "    times = []\n",
      "    disk.seek(0)\n",
      "    disk.read(512)\n",
      "    for _ in range(samplesize):\n",
      "        right = random.randint(0, area)\n",
      "        start = time.time()\n",
      "        disk.seek(right)\n",
      "        disk.read(512)\n",
      "        end = time.time()\n",
      "        times.append(end-start)\n",
      "\n",
      "    times = sorted(times)[:samplesize*95/100]\n",
      "    print 'Area tested: {0:5}   Average: {1:3.2f} ms   Max: {2:3.2f} ms   Sum: {3:0.2f} sec'.format(\n",
      "        BytesString(area), sum(times)/len(times)*1000, max(times)*1000, sum(times))\n",
      "    if displaytimes:\n",
      "        print 'Read times: {0} ... {1} ms'.format(\n",
      "            ' '.join(['{0:0.2f}'.format(x*1000) for x in times[:displaysamplesize/2]]), \n",
      "            ' '.join(['{0:0.2f}'.format(x*1000) for x in times[-displaysamplesize/2:]]))\n"
     ],
     "language": "python",
     "metadata": {},
     "outputs": [
      {
       "output_type": "stream",
       "stream": "stdout",
       "text": [
        "Using beginning of disk.  Sample size: 250  (displayed none)\n",
        "Area tested: 1MB     Average: 0.07 ms   Max: 0.34 ms   Sum: 0.02 sec"
       ]
      },
      {
       "output_type": "stream",
       "stream": "stdout",
       "text": [
        "\n",
        "Area tested: 4MB     Average: 0.16 ms   Max: 0.60 ms   Sum: 0.04 sec"
       ]
      },
      {
       "output_type": "stream",
       "stream": "stdout",
       "text": [
        "\n",
        "Area tested: 16MB    Average: 0.64 ms   Max: 9.71 ms   Sum: 0.15 sec"
       ]
      },
      {
       "output_type": "stream",
       "stream": "stdout",
       "text": [
        "\n",
        "Area tested: 128MB   Average: 6.00 ms   Max: 12.67 ms   Sum: 1.42 sec"
       ]
      },
      {
       "output_type": "stream",
       "stream": "stdout",
       "text": [
        "\n",
        "Area tested: 1GB     Average: 8.37 ms   Max: 13.94 ms   Sum: 1.98 sec"
       ]
      },
      {
       "output_type": "stream",
       "stream": "stdout",
       "text": [
        "\n",
        "Area tested: 4GB     Average: 9.03 ms   Max: 18.37 ms   Sum: 2.14 sec"
       ]
      },
      {
       "output_type": "stream",
       "stream": "stdout",
       "text": [
        "\n",
        "Area tested: 16GB    Average: 9.88 ms   Max: 15.09 ms   Sum: 2.34 sec"
       ]
      },
      {
       "output_type": "stream",
       "stream": "stdout",
       "text": [
        "\n",
        "Area tested: 128GB   Average: 10.83 ms   Max: 18.06 ms   Sum: 2.57 sec"
       ]
      },
      {
       "output_type": "stream",
       "stream": "stdout",
       "text": [
        "\n",
        "Area tested: 1TB     Average: 14.74 ms   Max: 24.91 ms   Sum: 3.49 sec"
       ]
      },
      {
       "output_type": "stream",
       "stream": "stdout",
       "text": [
        "\n"
       ]
      }
     ],
     "prompt_number": 11
    },
    {
     "cell_type": "heading",
     "level": 2,
     "metadata": {},
     "source": [
      "<center>Test 2: Sequential reading across 1GB</center>"
     ]
    },
    {
     "cell_type": "code",
     "collapsed": false,
     "input": [
      "bufsize = BytesInt('64MB')\n",
      "bufcount = 16\n",
      "displaytimes = False\n",
      "\n",
      "print 'Buffer size: {0}  Buffer count: {1}  Total: {2}'.format(\n",
      "    BytesString(bufsize), bufcount, BytesString(bufsize*bufcount))\n",
      "\n",
      "os.system('echo noop | sudo tee /sys/block/sdb/queue/scheduler > /dev/null')\n",
      "os.system('echo 3 | sudo tee /proc/sys/vm/drop_caches > /dev/null')\n",
      "\n",
      "times = []\n",
      "disk.seek(0)\n",
      "disk.read(512)\n",
      "for _ in range(bufcount):\n",
      "    start = time.time()\n",
      "    disk.read(bufsize)\n",
      "    end = time.time()\n",
      "    times.append(end-start)\n",
      "\n",
      "avg = bufsize/(sum(times)/len(times))\n",
      "print 'Average throughput: {0:0.0f} bytes/sec ({1:0.2f} megabytes/sec)'.format(avg, avg/1024/1024)\n",
      "print 'Total time: {0:0.2f} sec'.format(sum(times))\n",
      "if displaytimes:\n",
      "    print 'Read times: {0} sec'.format(' '.join(['{0:0.4f}'.format(x) for x in times]))\n"
     ],
     "language": "python",
     "metadata": {},
     "outputs": [
      {
       "output_type": "stream",
       "stream": "stdout",
       "text": [
        "Buffer size: 64MB  Buffer count: 16  Total: 1GB\n",
        "Average throughput: 110307494 bytes/sec (105.20 megabytes/sec)"
       ]
      },
      {
       "output_type": "stream",
       "stream": "stdout",
       "text": [
        "\n",
        "Total time: 9.73 sec\n"
       ]
      }
     ],
     "prompt_number": 12
    },
    {
     "cell_type": "code",
     "collapsed": false,
     "input": [],
     "language": "python",
     "metadata": {},
     "outputs": [],
     "prompt_number": 12
    }
   ],
   "metadata": {}
  }
 ]
}